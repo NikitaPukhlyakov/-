{
 "cells": [
  {
   "cell_type": "code",
   "execution_count": 2,
   "metadata": {},
   "outputs": [],
   "source": [
    "import pandas as pd\n",
    "from datetime import date\n",
    "import numpy as np\n",
    "import holidays\n",
    "import calendar\n",
    "from itertools import groupby\n",
    "import matplotlib.pyplot as plt\n",
    "import os, time\n",
    "import datetime\n",
    "from datetime import datetime, timedelta"
   ]
  },
  {
   "cell_type": "code",
   "execution_count": 5,
   "metadata": {},
   "outputs": [],
   "source": [
    "data = pd.read_csv('ha_data.csv', sep=';')"
   ]
  },
  {
   "cell_type": "code",
   "execution_count": 6,
   "metadata": {},
   "outputs": [],
   "source": [
    "#Так как нет данных про стоимости покупок и кликов, дать точный ответ о продаже тех или иных баннеров нельзя,\n",
    "#исходя из простого соображения, что достаточно высокая цена за клик делает продажу рекламного места выгодной.\n",
    "#По этой причине в этой задаче я буду исследовать эффективность баннера по кажому сегменту."
   ]
  },
  {
   "cell_type": "code",
   "execution_count": 7,
   "metadata": {},
   "outputs": [],
   "source": [
    "df=data\n",
    "df.columns=['order_id','page_id','Product','site_version','time','title','user']"
   ]
  },
  {
   "cell_type": "code",
   "execution_count": 1,
   "metadata": {
    "ExecuteTime": {
     "end_time": "2019-07-22T13:15:09.380393Z",
     "start_time": "2019-07-22T13:15:09.267457Z"
    }
   },
   "outputs": [
    {
     "ename": "NameError",
     "evalue": "name 'df' is not defined",
     "output_type": "error",
     "traceback": [
      "\u001b[1;31m---------------------------------------------------------------------------\u001b[0m",
      "\u001b[1;31mNameError\u001b[0m                                 Traceback (most recent call last)",
      "\u001b[1;32m<ipython-input-1-681b1b869988>\u001b[0m in \u001b[0;36m<module>\u001b[1;34m\u001b[0m\n\u001b[0;32m      1\u001b[0m \u001b[1;31m#тип события в процентах для каждого сегмента\u001b[0m\u001b[1;33m\u001b[0m\u001b[1;33m\u001b[0m\u001b[1;33m\u001b[0m\u001b[0m\n\u001b[1;32m----> 2\u001b[1;33m \u001b[1;32mfor\u001b[0m \u001b[0melement\u001b[0m \u001b[1;32min\u001b[0m \u001b[0mset\u001b[0m\u001b[1;33m(\u001b[0m\u001b[0mdf\u001b[0m\u001b[1;33m[\u001b[0m\u001b[1;34m'Product'\u001b[0m\u001b[1;33m]\u001b[0m\u001b[1;33m)\u001b[0m\u001b[1;33m:\u001b[0m\u001b[1;33m\u001b[0m\u001b[1;33m\u001b[0m\u001b[0m\n\u001b[0m\u001b[0;32m      3\u001b[0m     \u001b[0md1\u001b[0m\u001b[1;33m=\u001b[0m\u001b[0mlen\u001b[0m\u001b[1;33m(\u001b[0m\u001b[0mdf\u001b[0m\u001b[1;33m[\u001b[0m\u001b[1;33m(\u001b[0m\u001b[0mdf\u001b[0m\u001b[1;33m[\u001b[0m\u001b[1;34m'title'\u001b[0m\u001b[1;33m]\u001b[0m\u001b[1;33m==\u001b[0m\u001b[1;34m'banner_show'\u001b[0m\u001b[1;33m)\u001b[0m\u001b[1;33m&\u001b[0m\u001b[1;33m(\u001b[0m\u001b[0mdf\u001b[0m\u001b[1;33m[\u001b[0m\u001b[1;34m'Product'\u001b[0m\u001b[1;33m]\u001b[0m\u001b[1;33m==\u001b[0m\u001b[0melement\u001b[0m\u001b[1;33m)\u001b[0m\u001b[1;33m]\u001b[0m\u001b[1;33m)\u001b[0m\u001b[1;33m/\u001b[0m\u001b[0mlen\u001b[0m\u001b[1;33m(\u001b[0m\u001b[0mdf\u001b[0m\u001b[1;33m[\u001b[0m\u001b[0mdf\u001b[0m\u001b[1;33m[\u001b[0m\u001b[1;34m'Product'\u001b[0m\u001b[1;33m]\u001b[0m\u001b[1;33m==\u001b[0m\u001b[0melement\u001b[0m\u001b[1;33m]\u001b[0m\u001b[1;33m)\u001b[0m\u001b[1;33m*\u001b[0m\u001b[1;36m100\u001b[0m\u001b[1;33m\u001b[0m\u001b[1;33m\u001b[0m\u001b[0m\n\u001b[0;32m      4\u001b[0m     \u001b[0md2\u001b[0m\u001b[1;33m=\u001b[0m\u001b[0mlen\u001b[0m\u001b[1;33m(\u001b[0m\u001b[0mdf\u001b[0m\u001b[1;33m[\u001b[0m\u001b[1;33m(\u001b[0m\u001b[0mdf\u001b[0m\u001b[1;33m[\u001b[0m\u001b[1;34m'title'\u001b[0m\u001b[1;33m]\u001b[0m\u001b[1;33m==\u001b[0m\u001b[1;34m'banner_click'\u001b[0m\u001b[1;33m)\u001b[0m\u001b[1;33m&\u001b[0m\u001b[1;33m(\u001b[0m\u001b[0mdf\u001b[0m\u001b[1;33m[\u001b[0m\u001b[1;34m'Product'\u001b[0m\u001b[1;33m]\u001b[0m\u001b[1;33m==\u001b[0m\u001b[0melement\u001b[0m\u001b[1;33m)\u001b[0m\u001b[1;33m]\u001b[0m\u001b[1;33m)\u001b[0m\u001b[1;33m/\u001b[0m\u001b[0mlen\u001b[0m\u001b[1;33m(\u001b[0m\u001b[0mdf\u001b[0m\u001b[1;33m[\u001b[0m\u001b[0mdf\u001b[0m\u001b[1;33m[\u001b[0m\u001b[1;34m'Product'\u001b[0m\u001b[1;33m]\u001b[0m\u001b[1;33m==\u001b[0m\u001b[0melement\u001b[0m\u001b[1;33m]\u001b[0m\u001b[1;33m)\u001b[0m\u001b[1;33m*\u001b[0m\u001b[1;36m100\u001b[0m\u001b[1;33m\u001b[0m\u001b[1;33m\u001b[0m\u001b[0m\n\u001b[0;32m      5\u001b[0m     \u001b[0md3\u001b[0m\u001b[1;33m=\u001b[0m\u001b[0mlen\u001b[0m\u001b[1;33m(\u001b[0m\u001b[0mdf\u001b[0m\u001b[1;33m[\u001b[0m\u001b[1;33m(\u001b[0m\u001b[0mdf\u001b[0m\u001b[1;33m[\u001b[0m\u001b[1;34m'title'\u001b[0m\u001b[1;33m]\u001b[0m\u001b[1;33m==\u001b[0m\u001b[1;34m'order'\u001b[0m\u001b[1;33m)\u001b[0m\u001b[1;33m&\u001b[0m\u001b[1;33m(\u001b[0m\u001b[0mdf\u001b[0m\u001b[1;33m[\u001b[0m\u001b[1;34m'Product'\u001b[0m\u001b[1;33m]\u001b[0m\u001b[1;33m==\u001b[0m\u001b[0melement\u001b[0m\u001b[1;33m)\u001b[0m\u001b[1;33m]\u001b[0m\u001b[1;33m)\u001b[0m\u001b[1;33m/\u001b[0m\u001b[0mlen\u001b[0m\u001b[1;33m(\u001b[0m\u001b[0mdf\u001b[0m\u001b[1;33m[\u001b[0m\u001b[0mdf\u001b[0m\u001b[1;33m[\u001b[0m\u001b[1;34m'Product'\u001b[0m\u001b[1;33m]\u001b[0m\u001b[1;33m==\u001b[0m\u001b[0melement\u001b[0m\u001b[1;33m]\u001b[0m\u001b[1;33m)\u001b[0m\u001b[1;33m*\u001b[0m\u001b[1;36m100\u001b[0m\u001b[1;33m\u001b[0m\u001b[1;33m\u001b[0m\u001b[0m\n",
      "\u001b[1;31mNameError\u001b[0m: name 'df' is not defined"
     ]
    }
   ],
   "source": [
    "#тип события в процентах для каждого сегмента\n",
    "for element in set(df['Product']):\n",
    "    d1=len(df[(df['title']=='banner_show')&(df['Product']==element)])/len(df[df['Product']==element])*100\n",
    "    d2=len(df[(df['title']=='banner_click')&(df['Product']==element)])/len(df[df['Product']==element])*100\n",
    "    d3=len(df[(df['title']=='order')&(df['Product']==element)])/len(df[df['Product']==element])*100\n",
    "    counts = [d1,d2,d3]\n",
    "    fig, ax = plt.subplots(figsize=(4, 4))\n",
    "    ax.pie(counts,\n",
    "        colors=['blue','yellow','red'],\n",
    "        labels=['banner_show','banner_click' ,'order'],\n",
    "        startangle=90,\n",
    "        autopct='%1.1f%%',)\n",
    "    ax.set_title(element)\n",
    "    \n",
    "    \n",
    "\n",
    "\n"
   ]
  },
  {
   "cell_type": "code",
   "execution_count": 71,
   "metadata": {},
   "outputs": [
    {
     "data": {
      "image/png": "[encoded data removed]",
      "text/plain": [
       "<Figure size 288x288 with 1 Axes>"
      ]
     },
     "metadata": {},
     "output_type": "display_data"
    },
    {
     "data": {
      "image/png": "[encoded data removed]",
      "text/plain": [
       "<Figure size 288x288 with 1 Axes>"
      ]
     },
     "metadata": {},
     "output_type": "display_data"
    }
   ],
   "source": [
    "#тип события в процентах для каждого устройства\n",
    "for element in set(df['site_version']):  \n",
    "    d1=len(df[(df['title']=='banner_show')&(df['site_version']==element)])/len(df)*100\n",
    "    d2=len(df[(df['title']=='banner_click')&(df['site_version']==element)])/len(df)*100\n",
    "    d3=len(df[(df['title']=='order')&(df['site_version']==element)])/len(df)*100\n",
    "    counts = [d1,d2,d3]\n",
    "    fig, ax = plt.subplots(figsize=(4, 4))\n",
    "    ax.pie(counts,\n",
    "        colors=['blue','yellow','red'],\n",
    "        labels=['banner_show','banner_click' ,'order'],\n",
    "        startangle=90,\n",
    "        autopct='%1.1f%%',)\n",
    "    ax.set_title(element)\n",
    "    \n",
    "    "
   ]
  },
  {
   "cell_type": "code",
   "execution_count": 150,
   "metadata": {},
   "outputs": [],
   "source": [
    "df=df.sort_values('time')"
   ]
  },
  {
   "cell_type": "code",
   "execution_count": 151,
   "metadata": {},
   "outputs": [
    {
     "data": {
      "text/html": [
       "<div>\n",
       "<style scoped>\n",
       "    .dataframe tbody tr th:only-of-type {\n",
       "        vertical-align: middle;\n",
       "    }\n",
       "\n",
       "    .dataframe tbody tr th {\n",
       "        vertical-align: top;\n",
       "    }\n",
       "\n",
       "    .dataframe thead th {\n",
       "        text-align: right;\n",
       "    }\n",
       "</style>\n",
       "<table border=\"1\" class=\"dataframe\">\n",
       "  <thead>\n",
       "    <tr style=\"text-align: right;\">\n",
       "      <th></th>\n",
       "      <th>order_id</th>\n",
       "      <th>page_id</th>\n",
       "      <th>Product</th>\n",
       "      <th>site_version</th>\n",
       "      <th>time</th>\n",
       "      <th>title</th>\n",
       "      <th>user</th>\n",
       "    </tr>\n",
       "  </thead>\n",
       "  <tbody>\n",
       "    <tr>\n",
       "      <th>2989252</th>\n",
       "      <td>NaN</td>\n",
       "      <td>7446868.0</td>\n",
       "      <td>accessories</td>\n",
       "      <td>desktop</td>\n",
       "      <td>2017-01-01 00:00:03</td>\n",
       "      <td>banner_show</td>\n",
       "      <td>user_1365850</td>\n",
       "    </tr>\n",
       "    <tr>\n",
       "      <th>2407919</th>\n",
       "      <td>NaN</td>\n",
       "      <td>5639042.0</td>\n",
       "      <td>accessories</td>\n",
       "      <td>mobile</td>\n",
       "      <td>2017-01-01 00:00:05</td>\n",
       "      <td>banner_show</td>\n",
       "      <td>user_1064565</td>\n",
       "    </tr>\n",
       "    <tr>\n",
       "      <th>2595058</th>\n",
       "      <td>NaN</td>\n",
       "      <td>7310704.0</td>\n",
       "      <td>clothes</td>\n",
       "      <td>desktop</td>\n",
       "      <td>2017-01-01 00:00:15</td>\n",
       "      <td>banner_show</td>\n",
       "      <td>user_1162467</td>\n",
       "    </tr>\n",
       "    <tr>\n",
       "      <th>1764739</th>\n",
       "      <td>NaN</td>\n",
       "      <td>3745903.0</td>\n",
       "      <td>sneakers</td>\n",
       "      <td>mobile</td>\n",
       "      <td>2017-01-01 00:00:25</td>\n",
       "      <td>banner_show</td>\n",
       "      <td>user_742569</td>\n",
       "    </tr>\n",
       "    <tr>\n",
       "      <th>3918929</th>\n",
       "      <td>NaN</td>\n",
       "      <td>10200275.0</td>\n",
       "      <td>company</td>\n",
       "      <td>desktop</td>\n",
       "      <td>2017-01-01 00:00:25</td>\n",
       "      <td>banner_show</td>\n",
       "      <td>user_1827807</td>\n",
       "    </tr>\n",
       "  </tbody>\n",
       "</table>\n",
       "</div>"
      ],
      "text/plain": [
       "         order_id     page_id      Product site_version                 time  \\\n",
       "2989252       NaN   7446868.0  accessories      desktop  2017-01-01 00:00:03   \n",
       "2407919       NaN   5639042.0  accessories       mobile  2017-01-01 00:00:05   \n",
       "2595058       NaN   7310704.0      clothes      desktop  2017-01-01 00:00:15   \n",
       "1764739       NaN   3745903.0     sneakers       mobile  2017-01-01 00:00:25   \n",
       "3918929       NaN  10200275.0      company      desktop  2017-01-01 00:00:25   \n",
       "\n",
       "               title          user  \n",
       "2989252  banner_show  user_1365850  \n",
       "2407919  banner_show  user_1064565  \n",
       "2595058  banner_show  user_1162467  \n",
       "1764739  banner_show   user_742569  \n",
       "3918929  banner_show  user_1827807  "
      ]
     },
     "execution_count": 151,
     "metadata": {},
     "output_type": "execute_result"
    }
   ],
   "source": [
    "df.head()"
   ]
  },
  {
   "cell_type": "code",
   "execution_count": 152,
   "metadata": {},
   "outputs": [],
   "source": [
    "# Через page id подсчитаем рекламную конверсию, т.е. отношение числа показов к числу кликов в каждом сегменте\n",
    "pr = pd.DataFrame()\n",
    "x=list()\n",
    "y=list()\n",
    "for element in set(df['Product']):\n",
    "    a=sum(df[df['Product']==element]['page_id'].value_counts())\n",
    "    b=len(df[df['Product']==element]['page_id'].value_counts())\n",
    "    d=(a-b)/b*100\n",
    "    x.append(element)\n",
    "    y.append(d)\n",
    "pr['product'] = pd.Series(x).values\n",
    "pr['conversion %'] = pd.Series(y).values "
   ]
  },
  {
   "cell_type": "code",
   "execution_count": 153,
   "metadata": {},
   "outputs": [
    {
     "data": {
      "text/html": [
       "<div>\n",
       "<style scoped>\n",
       "    .dataframe tbody tr th:only-of-type {\n",
       "        vertical-align: middle;\n",
       "    }\n",
       "\n",
       "    .dataframe tbody tr th {\n",
       "        vertical-align: top;\n",
       "    }\n",
       "\n",
       "    .dataframe thead th {\n",
       "        text-align: right;\n",
       "    }\n",
       "</style>\n",
       "<table border=\"1\" class=\"dataframe\">\n",
       "  <thead>\n",
       "    <tr style=\"text-align: right;\">\n",
       "      <th></th>\n",
       "      <th>product</th>\n",
       "      <th>conversion %</th>\n",
       "    </tr>\n",
       "  </thead>\n",
       "  <tbody>\n",
       "    <tr>\n",
       "      <th>3</th>\n",
       "      <td>clothes</td>\n",
       "      <td>15.180700</td>\n",
       "    </tr>\n",
       "    <tr>\n",
       "      <th>4</th>\n",
       "      <td>sneakers</td>\n",
       "      <td>12.566645</td>\n",
       "    </tr>\n",
       "    <tr>\n",
       "      <th>1</th>\n",
       "      <td>sports_nutrition</td>\n",
       "      <td>9.885468</td>\n",
       "    </tr>\n",
       "    <tr>\n",
       "      <th>0</th>\n",
       "      <td>accessories</td>\n",
       "      <td>9.455819</td>\n",
       "    </tr>\n",
       "    <tr>\n",
       "      <th>2</th>\n",
       "      <td>company</td>\n",
       "      <td>9.164506</td>\n",
       "    </tr>\n",
       "  </tbody>\n",
       "</table>\n",
       "</div>"
      ],
      "text/plain": [
       "            product  conversion %\n",
       "3           clothes     15.180700\n",
       "4          sneakers     12.566645\n",
       "1  sports_nutrition      9.885468\n",
       "0       accessories      9.455819\n",
       "2           company      9.164506"
      ]
     },
     "execution_count": 153,
     "metadata": {},
     "output_type": "execute_result"
    }
   ],
   "source": [
    "pr.sort_values('conversion %',ascending=False)"
   ]
  },
  {
   "cell_type": "code",
   "execution_count": 154,
   "metadata": {},
   "outputs": [],
   "source": [
    "#Предлагаю следующее решение.Зафиксируем сегмент. Посмотрим на число уникальных пользователей, посетивших сайт и увидевших \n",
    "#баннер, посчитаем сколько из них кликнуло на него и сколько затем купило товар. \n",
    "#Таким образом  посчитаем конверсию в продажах\n",
    "# В расчет будем брать тех людей, у которых время хотя бы последней покупки позже первого клика по баннеру, исходя из той идеи, \n",
    "#что предполагаем , что баннер эффективен , если клиент его видит, затем кликает и покупает.\n",
    "pr1 = pd.DataFrame()\n",
    "a=list()\n",
    "b=list()\n",
    "c=list()\n",
    "d=list()\n",
    "for element in set(df['Product']):\n",
    "    d1=len(df[(df['title']=='banner_show')&(df['Product']==element)]['user'].unique())\n",
    "    d2=len(df[(df['title']=='banner_click')&(df['Product']==element)]['user'].unique())\n",
    "    spis=list(df[(df['title']=='banner_click')&(df['Product']==element)]['user'].unique()) # есть баннер и клик\n",
    "    df1=df[df['user'].isin(spis)]\n",
    "    spis=list(df1[(df1['title']=='order')&(df1['Product']==element)]['user'].unique()) # есть баннер,клик и покупка\n",
    "    df1=df1[df1['user'].isin(spis)]\n",
    "    spis1=spis\n",
    "    for elem in spis:\n",
    "        x=list(df1[(df1['user']==elem)&(df1['title']=='banner_click')]['time'])\n",
    "        y=list(df1[(df1['user']==elem)&(df1['title']=='order')]['time'])\n",
    "        if (x[0]>y[len(y)-1]):\n",
    "            spis1.remove(elem)\n",
    "    df1=df1[df1['user'].isin(spis1)]    \n",
    "    d3=len(df1[(df1['title']=='order')&(df1['Product']==element)]['user'].unique()) #учтено что время последней покупки позже времени первого клика\n",
    "    a.append(element)\n",
    "    b.append(d1)\n",
    "    c.append(d2/d1*100)\n",
    "    d.append(d3/d1*100)\n",
    "pr1['product'] = pd.Series(a).values\n",
    "pr1['number of users'] = pd.Series(b).values\n",
    "pr1['click %'] = pd.Series(c).values\n",
    "pr1['order %'] = pd.Series(d).values\n"
   ]
  },
  {
   "cell_type": "code",
   "execution_count": 155,
   "metadata": {},
   "outputs": [
    {
     "data": {
      "text/html": [
       "<div>\n",
       "<style scoped>\n",
       "    .dataframe tbody tr th:only-of-type {\n",
       "        vertical-align: middle;\n",
       "    }\n",
       "\n",
       "    .dataframe tbody tr th {\n",
       "        vertical-align: top;\n",
       "    }\n",
       "\n",
       "    .dataframe thead th {\n",
       "        text-align: right;\n",
       "    }\n",
       "</style>\n",
       "<table border=\"1\" class=\"dataframe\">\n",
       "  <thead>\n",
       "    <tr style=\"text-align: right;\">\n",
       "      <th></th>\n",
       "      <th>product</th>\n",
       "      <th>number of users</th>\n",
       "      <th>click %</th>\n",
       "      <th>order %</th>\n",
       "    </tr>\n",
       "  </thead>\n",
       "  <tbody>\n",
       "    <tr>\n",
       "      <th>3</th>\n",
       "      <td>clothes</td>\n",
       "      <td>1164914</td>\n",
       "      <td>18.036439</td>\n",
       "      <td>0.805896</td>\n",
       "    </tr>\n",
       "    <tr>\n",
       "      <th>4</th>\n",
       "      <td>sneakers</td>\n",
       "      <td>1163808</td>\n",
       "      <td>15.019831</td>\n",
       "      <td>0.468118</td>\n",
       "    </tr>\n",
       "    <tr>\n",
       "      <th>0</th>\n",
       "      <td>accessories</td>\n",
       "      <td>1155775</td>\n",
       "      <td>11.420735</td>\n",
       "      <td>0.263113</td>\n",
       "    </tr>\n",
       "    <tr>\n",
       "      <th>1</th>\n",
       "      <td>sports_nutrition</td>\n",
       "      <td>1173163</td>\n",
       "      <td>11.921106</td>\n",
       "      <td>0.138003</td>\n",
       "    </tr>\n",
       "    <tr>\n",
       "      <th>2</th>\n",
       "      <td>company</td>\n",
       "      <td>1256721</td>\n",
       "      <td>11.194450</td>\n",
       "      <td>0.000000</td>\n",
       "    </tr>\n",
       "  </tbody>\n",
       "</table>\n",
       "</div>"
      ],
      "text/plain": [
       "            product  number of users    click %   order %\n",
       "3           clothes          1164914  18.036439  0.805896\n",
       "4          sneakers          1163808  15.019831  0.468118\n",
       "0       accessories          1155775  11.420735  0.263113\n",
       "1  sports_nutrition          1173163  11.921106  0.138003\n",
       "2           company          1256721  11.194450  0.000000"
      ]
     },
     "execution_count": 155,
     "metadata": {},
     "output_type": "execute_result"
    }
   ],
   "source": [
    "pr1.sort_values('order %',ascending=False)"
   ]
  },
  {
   "cell_type": "code",
   "execution_count": 156,
   "metadata": {},
   "outputs": [
    {
     "name": "stderr",
     "output_type": "stream",
     "text": [
      "C:\\ProgramData\\Anaconda3\\lib\\site-packages\\ipykernel_launcher.py:12: UserWarning: Boolean Series key will be reindexed to match DataFrame index.\n",
      "  if sys.path[0] == '':\n",
      "C:\\ProgramData\\Anaconda3\\lib\\site-packages\\ipykernel_launcher.py:23: UserWarning: Boolean Series key will be reindexed to match DataFrame index.\n"
     ]
    }
   ],
   "source": [
    "#То же самое только фиксимруем версию сайта\n",
    "pr2 = pd.DataFrame()\n",
    "a=list()\n",
    "b=list()\n",
    "c=list()\n",
    "d=list()\n",
    "e=list()\n",
    "df1=df[df['site_version']=='desktop']\n",
    "for element in set(df['Product']):\n",
    "    d1=len(df1[(df1['title']=='banner_show')&(df1['Product']==element)]['user'].unique())\n",
    "    d2=len(df1[(df1['title']=='banner_click')&(df1['Product']==element)]['user'].unique())\n",
    "    spis=list(df1[(df1['title']=='banner_click')&(df['Product']==element)]['user'].unique()) # есть баннер и клик\n",
    "    df2=df1[df1['user'].isin(spis)]\n",
    "    spis=list(df2[(df2['title']=='order')&(df2['Product']==element)]['user'].unique()) # есть баннер,клик и покупка\n",
    "    df2=df2[df2['user'].isin(spis)]\n",
    "    spis1=spis\n",
    "    for elem in spis:\n",
    "        x=list(df2[(df2['user']==elem)&(df2['title']=='banner_click')]['time'])\n",
    "        y=list(df2[(df2['user']==elem)&(df2['title']=='order')]['time'])\n",
    "        if (x[0]>y[len(y)-1]):\n",
    "            spis1.remove(elem)\n",
    "    df2=df2[df2['user'].isin(spis1)]    \n",
    "    d3=len(df2[(df2['title']=='order')&(df1['Product']==element)]['user'].unique()) #учтено что время последней покупки позже времени первого клика\n",
    "    a.append(element)\n",
    "    b.append(d1)\n",
    "    c.append(d2/d1*100)\n",
    "    d.append(d3/d1*100)\n",
    "    e.append('desktop')\n",
    "pr2['product'] = pd.Series(a).values\n",
    "pr2['number of users'] = pd.Series(b).values\n",
    "pr2['click %'] = pd.Series(c).values\n",
    "pr2['order %'] = pd.Series(d).values\n",
    "pr2['site_version'] =  pd.Series(e).values"
   ]
  },
  {
   "cell_type": "code",
   "execution_count": 157,
   "metadata": {},
   "outputs": [
    {
     "data": {
      "text/html": [
       "<div>\n",
       "<style scoped>\n",
       "    .dataframe tbody tr th:only-of-type {\n",
       "        vertical-align: middle;\n",
       "    }\n",
       "\n",
       "    .dataframe tbody tr th {\n",
       "        vertical-align: top;\n",
       "    }\n",
       "\n",
       "    .dataframe thead th {\n",
       "        text-align: right;\n",
       "    }\n",
       "</style>\n",
       "<table border=\"1\" class=\"dataframe\">\n",
       "  <thead>\n",
       "    <tr style=\"text-align: right;\">\n",
       "      <th></th>\n",
       "      <th>product</th>\n",
       "      <th>number of users</th>\n",
       "      <th>click %</th>\n",
       "      <th>order %</th>\n",
       "      <th>site_version</th>\n",
       "    </tr>\n",
       "  </thead>\n",
       "  <tbody>\n",
       "    <tr>\n",
       "      <th>3</th>\n",
       "      <td>clothes</td>\n",
       "      <td>373067</td>\n",
       "      <td>8.687448</td>\n",
       "      <td>1.008666</td>\n",
       "      <td>desktop</td>\n",
       "    </tr>\n",
       "    <tr>\n",
       "      <th>4</th>\n",
       "      <td>sneakers</td>\n",
       "      <td>367953</td>\n",
       "      <td>5.783891</td>\n",
       "      <td>0.403584</td>\n",
       "      <td>desktop</td>\n",
       "    </tr>\n",
       "    <tr>\n",
       "      <th>0</th>\n",
       "      <td>accessories</td>\n",
       "      <td>366314</td>\n",
       "      <td>5.031203</td>\n",
       "      <td>0.262343</td>\n",
       "      <td>desktop</td>\n",
       "    </tr>\n",
       "    <tr>\n",
       "      <th>1</th>\n",
       "      <td>sports_nutrition</td>\n",
       "      <td>372552</td>\n",
       "      <td>3.707670</td>\n",
       "      <td>0.112468</td>\n",
       "      <td>desktop</td>\n",
       "    </tr>\n",
       "    <tr>\n",
       "      <th>2</th>\n",
       "      <td>company</td>\n",
       "      <td>419769</td>\n",
       "      <td>6.721078</td>\n",
       "      <td>0.000000</td>\n",
       "      <td>desktop</td>\n",
       "    </tr>\n",
       "  </tbody>\n",
       "</table>\n",
       "</div>"
      ],
      "text/plain": [
       "            product  number of users   click %   order % site_version\n",
       "3           clothes           373067  8.687448  1.008666      desktop\n",
       "4          sneakers           367953  5.783891  0.403584      desktop\n",
       "0       accessories           366314  5.031203  0.262343      desktop\n",
       "1  sports_nutrition           372552  3.707670  0.112468      desktop\n",
       "2           company           419769  6.721078  0.000000      desktop"
      ]
     },
     "execution_count": 157,
     "metadata": {},
     "output_type": "execute_result"
    }
   ],
   "source": [
    "pr2.sort_values('order %',ascending=False)"
   ]
  },
  {
   "cell_type": "code",
   "execution_count": 158,
   "metadata": {},
   "outputs": [
    {
     "name": "stderr",
     "output_type": "stream",
     "text": [
      "C:\\ProgramData\\Anaconda3\\lib\\site-packages\\ipykernel_launcher.py:12: UserWarning: Boolean Series key will be reindexed to match DataFrame index.\n",
      "  if sys.path[0] == '':\n",
      "C:\\ProgramData\\Anaconda3\\lib\\site-packages\\ipykernel_launcher.py:23: UserWarning: Boolean Series key will be reindexed to match DataFrame index.\n"
     ]
    }
   ],
   "source": [
    "#То же самое только фиксимруем версию сайта\n",
    "pr3 = pd.DataFrame()\n",
    "a=list()\n",
    "b=list()\n",
    "c=list()\n",
    "d=list()\n",
    "e=list()\n",
    "df1=df[df['site_version']=='mobile']\n",
    "for element in set(df['Product']):\n",
    "    d1=len(df1[(df1['title']=='banner_show')&(df1['Product']==element)]['user'].unique())\n",
    "    d2=len(df1[(df1['title']=='banner_click')&(df1['Product']==element)]['user'].unique())\n",
    "    spis=list(df1[(df1['title']=='banner_click')&(df['Product']==element)]['user'].unique()) # есть баннер и клик\n",
    "    df2=df1[df1['user'].isin(spis)]\n",
    "    spis=list(df2[(df2['title']=='order')&(df2['Product']==element)]['user'].unique()) # есть баннер,клик и покупка\n",
    "    df2=df2[df2['user'].isin(spis)]\n",
    "    spis1=spis\n",
    "    for elem in spis:\n",
    "        x=list(df2[(df2['user']==elem)&(df2['title']=='banner_click')]['time'])\n",
    "        y=list(df2[(df2['user']==elem)&(df2['title']=='order')]['time'])\n",
    "        if (x[0]>y[len(y)-1]):\n",
    "            spis1.remove(elem)\n",
    "    df2=df2[df2['user'].isin(spis1)]    \n",
    "    d3=len(df2[(df2['title']=='order')&(df1['Product']==element)]['user'].unique()) #учтено что время последней покупки позже времени первого клика\n",
    "    a.append(element)\n",
    "    b.append(d1)\n",
    "    c.append(d2/d1*100)\n",
    "    d.append(d3/d1*100)\n",
    "    e.append('mobile')\n",
    "pr3['product'] = pd.Series(a).values\n",
    "pr3['number of users'] = pd.Series(b).values\n",
    "pr3['click %'] = pd.Series(c).values\n",
    "pr3['order %'] = pd.Series(d).values\n",
    "pr3['site_version'] =  pd.Series(e).values"
   ]
  },
  {
   "cell_type": "code",
   "execution_count": 159,
   "metadata": {},
   "outputs": [
    {
     "data": {
      "text/html": [
       "<div>\n",
       "<style scoped>\n",
       "    .dataframe tbody tr th:only-of-type {\n",
       "        vertical-align: middle;\n",
       "    }\n",
       "\n",
       "    .dataframe tbody tr th {\n",
       "        vertical-align: top;\n",
       "    }\n",
       "\n",
       "    .dataframe thead th {\n",
       "        text-align: right;\n",
       "    }\n",
       "</style>\n",
       "<table border=\"1\" class=\"dataframe\">\n",
       "  <thead>\n",
       "    <tr style=\"text-align: right;\">\n",
       "      <th></th>\n",
       "      <th>product</th>\n",
       "      <th>number of users</th>\n",
       "      <th>click %</th>\n",
       "      <th>order %</th>\n",
       "      <th>site_version</th>\n",
       "    </tr>\n",
       "  </thead>\n",
       "  <tbody>\n",
       "    <tr>\n",
       "      <th>3</th>\n",
       "      <td>clothes</td>\n",
       "      <td>794006</td>\n",
       "      <td>22.386481</td>\n",
       "      <td>0.704907</td>\n",
       "      <td>mobile</td>\n",
       "    </tr>\n",
       "    <tr>\n",
       "      <th>4</th>\n",
       "      <td>sneakers</td>\n",
       "      <td>797950</td>\n",
       "      <td>19.241431</td>\n",
       "      <td>0.493264</td>\n",
       "      <td>mobile</td>\n",
       "    </tr>\n",
       "    <tr>\n",
       "      <th>0</th>\n",
       "      <td>accessories</td>\n",
       "      <td>791575</td>\n",
       "      <td>14.348988</td>\n",
       "      <td>0.259230</td>\n",
       "      <td>mobile</td>\n",
       "    </tr>\n",
       "    <tr>\n",
       "      <th>1</th>\n",
       "      <td>sports_nutrition</td>\n",
       "      <td>802766</td>\n",
       "      <td>15.702957</td>\n",
       "      <td>0.149732</td>\n",
       "      <td>mobile</td>\n",
       "    </tr>\n",
       "    <tr>\n",
       "      <th>2</th>\n",
       "      <td>company</td>\n",
       "      <td>839538</td>\n",
       "      <td>13.400108</td>\n",
       "      <td>0.000000</td>\n",
       "      <td>mobile</td>\n",
       "    </tr>\n",
       "  </tbody>\n",
       "</table>\n",
       "</div>"
      ],
      "text/plain": [
       "            product  number of users    click %   order % site_version\n",
       "3           clothes           794006  22.386481  0.704907       mobile\n",
       "4          sneakers           797950  19.241431  0.493264       mobile\n",
       "0       accessories           791575  14.348988  0.259230       mobile\n",
       "1  sports_nutrition           802766  15.702957  0.149732       mobile\n",
       "2           company           839538  13.400108  0.000000       mobile"
      ]
     },
     "execution_count": 159,
     "metadata": {},
     "output_type": "execute_result"
    }
   ],
   "source": [
    "pr3.sort_values('order %',ascending=False)"
   ]
  },
  {
   "cell_type": "code",
   "execution_count": 160,
   "metadata": {},
   "outputs": [],
   "source": [
    "#Как видим по таблицам конверсия по продажам лучше всего в сегменте clothes, а хуже всего в sport nutrition.\n",
    "#Дальнейшее решение сильно зависит от стоимости покупок в сегменте и стоимости клика. Если бы это было известно, то\n",
    "#можно было бы сравнить стоимость всех кликов и стоимость всех покупок ,и в зависимости от того какая величина больше в среднем,\n",
    "#принять решение."
   ]
  },
  {
   "cell_type": "code",
   "execution_count": null,
   "metadata": {},
   "outputs": [],
   "source": []
  }
 ],
 "metadata": {
  "hide_input": false,
  "kernelspec": {
   "display_name": "Python 3",
   "language": "python",
   "name": "python3"
  },
  "language_info": {
   "codemirror_mode": {
    "name": "ipython",
    "version": 3
   },
   "file_extension": ".py",
   "mimetype": "text/x-python",
   "name": "python",
   "nbconvert_exporter": "python",
   "pygments_lexer": "ipython3",
   "version": "3.7.3"
  },
  "toc": {
   "base_numbering": 1,
   "nav_menu": {},
   "number_sections": true,
   "sideBar": true,
   "skip_h1_title": false,
   "title_cell": "Table of Contents",
   "title_sidebar": "Contents",
   "toc_cell": false,
   "toc_position": {},
   "toc_section_display": true,
   "toc_window_display": false
  }
 },
 "nbformat": 4,
 "nbformat_minor": 2
}
